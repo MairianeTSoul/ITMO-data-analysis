{
  "nbformat": 4,
  "nbformat_minor": 0,
  "metadata": {
    "colab": {
      "provenance": []
    },
    "kernelspec": {
      "name": "python3",
      "display_name": "Python 3"
    },
    "language_info": {
      "name": "python"
    }
  },
  "cells": [
    {
      "cell_type": "markdown",
      "source": [
        "# 1. Polars"
      ],
      "metadata": {
        "id": "EVPrX-uWIrJc"
      }
    },
    {
      "cell_type": "code",
      "source": [
        "%pip install polars"
      ],
      "metadata": {
        "colab": {
          "base_uri": "https://localhost:8080/"
        },
        "id": "OUdZMaJAI6_c",
        "outputId": "1a22fb91-87d3-41ad-a9d5-0d3fca726e7f"
      },
      "execution_count": 1,
      "outputs": [
        {
          "output_type": "stream",
          "name": "stdout",
          "text": [
            "Requirement already satisfied: polars in /usr/local/lib/python3.10/dist-packages (1.9.0)\n"
          ]
        }
      ]
    },
    {
      "cell_type": "code",
      "source": [
        "import polars as pl"
      ],
      "metadata": {
        "id": "_EwMS1WDJLJ9"
      },
      "execution_count": 2,
      "outputs": []
    },
    {
      "cell_type": "markdown",
      "source": [
        "Считайте датасет из файла train.csv (это данные о выживаемости на Титанике) с помощью polars - 1 балл"
      ],
      "metadata": {
        "id": "wlV6n-0vIxdi"
      }
    },
    {
      "cell_type": "code",
      "source": [
        "df = pl.read_csv(\"train.csv\")"
      ],
      "metadata": {
        "id": "exbPy8bSJIfB"
      },
      "execution_count": 10,
      "outputs": []
    },
    {
      "cell_type": "markdown",
      "source": [
        "Выведите основную информацию о датасете: информацию о типах данных, число пропусков, средние значения и т.д. - 1 балл\n",
        "hint: используйте методы и атрибуты датафрейма: describe(), dtypes, null_count(), mean()..."
      ],
      "metadata": {
        "id": "k9N6F5S1I1Yb"
      }
    },
    {
      "cell_type": "code",
      "source": [
        "print(\"Типы данных:\", df.dtypes)\n",
        "print(\"Количество пропусков:\", df.null_count())\n",
        "print(\"Описание данных:\\n\", df.describe())\n",
        "print(\"Средние значения:\\n\", df.select([pl.col(column).mean() for column in df.columns if df.schema[column] == pl.Float64]))"
      ],
      "metadata": {
        "colab": {
          "base_uri": "https://localhost:8080/"
        },
        "id": "74PsgGREJWxr",
        "outputId": "9f9d1187-afc5-421b-8818-147abcc5aa6a"
      },
      "execution_count": 5,
      "outputs": [
        {
          "output_type": "stream",
          "name": "stdout",
          "text": [
            "Типы данных: [Int64, Int64, Int64, String, String, Float64, Int64, Int64, String, Float64, String, String]\n",
            "Количество пропусков: shape: (1, 12)\n",
            "┌─────────────┬──────────┬────────┬──────┬───┬────────┬──────┬───────┬──────────┐\n",
            "│ PassengerId ┆ Survived ┆ Pclass ┆ Name ┆ … ┆ Ticket ┆ Fare ┆ Cabin ┆ Embarked │\n",
            "│ ---         ┆ ---      ┆ ---    ┆ ---  ┆   ┆ ---    ┆ ---  ┆ ---   ┆ ---      │\n",
            "│ u32         ┆ u32      ┆ u32    ┆ u32  ┆   ┆ u32    ┆ u32  ┆ u32   ┆ u32      │\n",
            "╞═════════════╪══════════╪════════╪══════╪═══╪════════╪══════╪═══════╪══════════╡\n",
            "│ 0           ┆ 0        ┆ 0      ┆ 0    ┆ … ┆ 0      ┆ 0    ┆ 687   ┆ 2        │\n",
            "└─────────────┴──────────┴────────┴──────┴───┴────────┴──────┴───────┴──────────┘\n",
            "Описание данных:\n",
            " shape: (9, 13)\n",
            "┌────────────┬─────────────┬──────────┬──────────┬───┬───────────┬───────────┬───────┬──────────┐\n",
            "│ statistic  ┆ PassengerId ┆ Survived ┆ Pclass   ┆ … ┆ Ticket    ┆ Fare      ┆ Cabin ┆ Embarked │\n",
            "│ ---        ┆ ---         ┆ ---      ┆ ---      ┆   ┆ ---       ┆ ---       ┆ ---   ┆ ---      │\n",
            "│ str        ┆ f64         ┆ f64      ┆ f64      ┆   ┆ str       ┆ f64       ┆ str   ┆ str      │\n",
            "╞════════════╪═════════════╪══════════╪══════════╪═══╪═══════════╪═══════════╪═══════╪══════════╡\n",
            "│ count      ┆ 891.0       ┆ 891.0    ┆ 891.0    ┆ … ┆ 891       ┆ 891.0     ┆ 204   ┆ 889      │\n",
            "│ null_count ┆ 0.0         ┆ 0.0      ┆ 0.0      ┆ … ┆ 0         ┆ 0.0       ┆ 687   ┆ 2        │\n",
            "│ mean       ┆ 446.0       ┆ 0.383838 ┆ 2.308642 ┆ … ┆ null      ┆ 32.204208 ┆ null  ┆ null     │\n",
            "│ std        ┆ 257.353842  ┆ 0.486592 ┆ 0.836071 ┆ … ┆ null      ┆ 49.693429 ┆ null  ┆ null     │\n",
            "│ min        ┆ 1.0         ┆ 0.0      ┆ 1.0      ┆ … ┆ 110152    ┆ 0.0       ┆ A10   ┆ C        │\n",
            "│ 25%        ┆ 224.0       ┆ 0.0      ┆ 2.0      ┆ … ┆ null      ┆ 7.925     ┆ null  ┆ null     │\n",
            "│ 50%        ┆ 446.0       ┆ 0.0      ┆ 3.0      ┆ … ┆ null      ┆ 14.4542   ┆ null  ┆ null     │\n",
            "│ 75%        ┆ 669.0       ┆ 1.0      ┆ 3.0      ┆ … ┆ null      ┆ 31.0      ┆ null  ┆ null     │\n",
            "│ max        ┆ 891.0       ┆ 1.0      ┆ 3.0      ┆ … ┆ WE/P 5735 ┆ 512.3292  ┆ T     ┆ S        │\n",
            "└────────────┴─────────────┴──────────┴──────────┴───┴───────────┴───────────┴───────┴──────────┘\n",
            "Средние значения:\n",
            " shape: (1, 2)\n",
            "┌───────────┬───────────┐\n",
            "│ Age       ┆ Fare      │\n",
            "│ ---       ┆ ---       │\n",
            "│ f64       ┆ f64       │\n",
            "╞═══════════╪═══════════╡\n",
            "│ 29.699118 ┆ 32.204208 │\n",
            "└───────────┴───────────┘\n"
          ]
        }
      ]
    },
    {
      "cell_type": "markdown",
      "source": [
        "\n",
        "Посчитайте количество пассажиров каждого класса (Pclass) - 1 балл\n",
        "hint: используйте методы: get_column(), value_counts()..."
      ],
      "metadata": {
        "id": "6EUI6vP5I3b9"
      }
    },
    {
      "cell_type": "code",
      "source": [
        "df.get_column(\"Pclass\").value_counts()"
      ],
      "metadata": {
        "colab": {
          "base_uri": "https://localhost:8080/",
          "height": 192
        },
        "id": "obV4kOokJ5RZ",
        "outputId": "feed9d3f-58c1-4f1f-aea2-866be67fc7cf"
      },
      "execution_count": 13,
      "outputs": [
        {
          "output_type": "execute_result",
          "data": {
            "text/plain": [
              "shape: (3, 2)\n",
              "┌────────┬───────┐\n",
              "│ Pclass ┆ count │\n",
              "│ ---    ┆ ---   │\n",
              "│ i64    ┆ u32   │\n",
              "╞════════╪═══════╡\n",
              "│ 1      ┆ 216   │\n",
              "│ 2      ┆ 184   │\n",
              "│ 3      ┆ 491   │\n",
              "└────────┴───────┘"
            ],
            "text/html": [
              "<div><style>\n",
              ".dataframe > thead > tr,\n",
              ".dataframe > tbody > tr {\n",
              "  text-align: right;\n",
              "  white-space: pre-wrap;\n",
              "}\n",
              "</style>\n",
              "<small>shape: (3, 2)</small><table border=\"1\" class=\"dataframe\"><thead><tr><th>Pclass</th><th>count</th></tr><tr><td>i64</td><td>u32</td></tr></thead><tbody><tr><td>1</td><td>216</td></tr><tr><td>2</td><td>184</td></tr><tr><td>3</td><td>491</td></tr></tbody></table></div>"
            ]
          },
          "metadata": {},
          "execution_count": 13
        }
      ]
    },
    {
      "cell_type": "markdown",
      "source": [
        "\n",
        "\n",
        "Выведите количество выживших мужчин и женщин на корабле - 1 балл\n",
        "hint: используйте методы: groupby(), agg(), pl.col(), sum()..."
      ],
      "metadata": {
        "id": "ldCw3_PFI42w"
      }
    },
    {
      "cell_type": "code",
      "source": [
        "survived_by_gender = (\n",
        "    df.group_by(\"Sex\")\n",
        "    .agg(pl.col(\"Survived\").sum().alias(\"Survived_Count\"))\n",
        ")\n",
        "survived_by_gender"
      ],
      "metadata": {
        "colab": {
          "base_uri": "https://localhost:8080/",
          "height": 161
        },
        "id": "f6SZqgxUJ9xk",
        "outputId": "7325c48f-9b5d-41c1-f657-cacf6ddb1248"
      },
      "execution_count": 14,
      "outputs": [
        {
          "output_type": "execute_result",
          "data": {
            "text/plain": [
              "shape: (2, 2)\n",
              "┌────────┬────────────────┐\n",
              "│ Sex    ┆ Survived_Count │\n",
              "│ ---    ┆ ---            │\n",
              "│ str    ┆ i64            │\n",
              "╞════════╪════════════════╡\n",
              "│ male   ┆ 109            │\n",
              "│ female ┆ 233            │\n",
              "└────────┴────────────────┘"
            ],
            "text/html": [
              "<div><style>\n",
              ".dataframe > thead > tr,\n",
              ".dataframe > tbody > tr {\n",
              "  text-align: right;\n",
              "  white-space: pre-wrap;\n",
              "}\n",
              "</style>\n",
              "<small>shape: (2, 2)</small><table border=\"1\" class=\"dataframe\"><thead><tr><th>Sex</th><th>Survived_Count</th></tr><tr><td>str</td><td>i64</td></tr></thead><tbody><tr><td>&quot;male&quot;</td><td>109</td></tr><tr><td>&quot;female&quot;</td><td>233</td></tr></tbody></table></div>"
            ]
          },
          "metadata": {},
          "execution_count": 14
        }
      ]
    },
    {
      "cell_type": "markdown",
      "source": [
        "\n",
        "\n",
        "Выведите часть таблицы с пассажирами, возраст которых больше 44 лет - 1 балл\n",
        "hint: используйте методы: filter(), pl.col()..."
      ],
      "metadata": {
        "id": "L8Ng-7OMI6As"
      }
    },
    {
      "cell_type": "code",
      "execution_count": 15,
      "metadata": {
        "colab": {
          "base_uri": "https://localhost:8080/",
          "height": 443
        },
        "id": "hzRq-FckIl4h",
        "outputId": "39a71803-ac29-4094-e01d-1d8cddb76c66"
      },
      "outputs": [
        {
          "output_type": "execute_result",
          "data": {
            "text/plain": [
              "shape: (115, 12)\n",
              "┌─────────────┬──────────┬────────┬──────────────────┬───┬────────────┬─────────┬───────┬──────────┐\n",
              "│ PassengerId ┆ Survived ┆ Pclass ┆ Name             ┆ … ┆ Ticket     ┆ Fare    ┆ Cabin ┆ Embarked │\n",
              "│ ---         ┆ ---      ┆ ---    ┆ ---              ┆   ┆ ---        ┆ ---     ┆ ---   ┆ ---      │\n",
              "│ i64         ┆ i64      ┆ i64    ┆ str              ┆   ┆ str        ┆ f64     ┆ str   ┆ str      │\n",
              "╞═════════════╪══════════╪════════╪══════════════════╪═══╪════════════╪═════════╪═══════╪══════════╡\n",
              "│ 7           ┆ 0        ┆ 1      ┆ McCarthy, Mr.    ┆ … ┆ 17463      ┆ 51.8625 ┆ E46   ┆ S        │\n",
              "│             ┆          ┆        ┆ Timothy J        ┆   ┆            ┆         ┆       ┆          │\n",
              "│ 12          ┆ 1        ┆ 1      ┆ Bonnell, Miss.   ┆ … ┆ 113783     ┆ 26.55   ┆ C103  ┆ S        │\n",
              "│             ┆          ┆        ┆ Elizabeth        ┆   ┆            ┆         ┆       ┆          │\n",
              "│ 16          ┆ 1        ┆ 2      ┆ Hewlett, Mrs.    ┆ … ┆ 248706     ┆ 16.0    ┆ null  ┆ S        │\n",
              "│             ┆          ┆        ┆ (Mary D          ┆   ┆            ┆         ┆       ┆          │\n",
              "│             ┆          ┆        ┆ Kingcome…        ┆   ┆            ┆         ┆       ┆          │\n",
              "│ 34          ┆ 0        ┆ 2      ┆ Wheadon, Mr.     ┆ … ┆ C.A. 24579 ┆ 10.5    ┆ null  ┆ S        │\n",
              "│             ┆          ┆        ┆ Edward H         ┆   ┆            ┆         ┆       ┆          │\n",
              "│ 53          ┆ 1        ┆ 1      ┆ Harper, Mrs.     ┆ … ┆ PC 17572   ┆ 76.7292 ┆ D33   ┆ C        │\n",
              "│             ┆          ┆        ┆ Henry Sleeper    ┆   ┆            ┆         ┆       ┆          │\n",
              "│             ┆          ┆        ┆ (My…             ┆   ┆            ┆         ┆       ┆          │\n",
              "│ …           ┆ …        ┆ …      ┆ …                ┆ … ┆ …          ┆ …       ┆ …     ┆ …        │\n",
              "│ 858         ┆ 1        ┆ 1      ┆ Daly, Mr. Peter  ┆ … ┆ 113055     ┆ 26.55   ┆ E17   ┆ S        │\n",
              "│             ┆          ┆        ┆ Denis            ┆   ┆            ┆         ┆       ┆          │\n",
              "│ 863         ┆ 1        ┆ 1      ┆ Swift, Mrs.      ┆ … ┆ 17466      ┆ 25.9292 ┆ D17   ┆ S        │\n",
              "│             ┆          ┆        ┆ Frederick Joel   ┆   ┆            ┆         ┆       ┆          │\n",
              "│             ┆          ┆        ┆ (Ma…             ┆   ┆            ┆         ┆       ┆          │\n",
              "│ 872         ┆ 1        ┆ 1      ┆ Beckwith, Mrs.   ┆ … ┆ 11751      ┆ 52.5542 ┆ D35   ┆ S        │\n",
              "│             ┆          ┆        ┆ Richard Leonard… ┆   ┆            ┆         ┆       ┆          │\n",
              "│ 874         ┆ 0        ┆ 3      ┆ Vander Cruyssen, ┆ … ┆ 345765     ┆ 9.0     ┆ null  ┆ S        │\n",
              "│             ┆          ┆        ┆ Mr. Victor       ┆   ┆            ┆         ┆       ┆          │\n",
              "│ 880         ┆ 1        ┆ 1      ┆ Potter, Mrs.     ┆ … ┆ 11767      ┆ 83.1583 ┆ C50   ┆ C        │\n",
              "│             ┆          ┆        ┆ Thomas Jr (Lily  ┆   ┆            ┆         ┆       ┆          │\n",
              "│             ┆          ┆        ┆ A…               ┆   ┆            ┆         ┆       ┆          │\n",
              "└─────────────┴──────────┴────────┴──────────────────┴───┴────────────┴─────────┴───────┴──────────┘"
            ],
            "text/html": [
              "<div><style>\n",
              ".dataframe > thead > tr,\n",
              ".dataframe > tbody > tr {\n",
              "  text-align: right;\n",
              "  white-space: pre-wrap;\n",
              "}\n",
              "</style>\n",
              "<small>shape: (115, 12)</small><table border=\"1\" class=\"dataframe\"><thead><tr><th>PassengerId</th><th>Survived</th><th>Pclass</th><th>Name</th><th>Sex</th><th>Age</th><th>SibSp</th><th>Parch</th><th>Ticket</th><th>Fare</th><th>Cabin</th><th>Embarked</th></tr><tr><td>i64</td><td>i64</td><td>i64</td><td>str</td><td>str</td><td>f64</td><td>i64</td><td>i64</td><td>str</td><td>f64</td><td>str</td><td>str</td></tr></thead><tbody><tr><td>7</td><td>0</td><td>1</td><td>&quot;McCarthy, Mr. Timothy J&quot;</td><td>&quot;male&quot;</td><td>54.0</td><td>0</td><td>0</td><td>&quot;17463&quot;</td><td>51.8625</td><td>&quot;E46&quot;</td><td>&quot;S&quot;</td></tr><tr><td>12</td><td>1</td><td>1</td><td>&quot;Bonnell, Miss. Elizabeth&quot;</td><td>&quot;female&quot;</td><td>58.0</td><td>0</td><td>0</td><td>&quot;113783&quot;</td><td>26.55</td><td>&quot;C103&quot;</td><td>&quot;S&quot;</td></tr><tr><td>16</td><td>1</td><td>2</td><td>&quot;Hewlett, Mrs. (Mary D Kingcome…</td><td>&quot;female&quot;</td><td>55.0</td><td>0</td><td>0</td><td>&quot;248706&quot;</td><td>16.0</td><td>null</td><td>&quot;S&quot;</td></tr><tr><td>34</td><td>0</td><td>2</td><td>&quot;Wheadon, Mr. Edward H&quot;</td><td>&quot;male&quot;</td><td>66.0</td><td>0</td><td>0</td><td>&quot;C.A. 24579&quot;</td><td>10.5</td><td>null</td><td>&quot;S&quot;</td></tr><tr><td>53</td><td>1</td><td>1</td><td>&quot;Harper, Mrs. Henry Sleeper (My…</td><td>&quot;female&quot;</td><td>49.0</td><td>1</td><td>0</td><td>&quot;PC 17572&quot;</td><td>76.7292</td><td>&quot;D33&quot;</td><td>&quot;C&quot;</td></tr><tr><td>&hellip;</td><td>&hellip;</td><td>&hellip;</td><td>&hellip;</td><td>&hellip;</td><td>&hellip;</td><td>&hellip;</td><td>&hellip;</td><td>&hellip;</td><td>&hellip;</td><td>&hellip;</td><td>&hellip;</td></tr><tr><td>858</td><td>1</td><td>1</td><td>&quot;Daly, Mr. Peter Denis &quot;</td><td>&quot;male&quot;</td><td>51.0</td><td>0</td><td>0</td><td>&quot;113055&quot;</td><td>26.55</td><td>&quot;E17&quot;</td><td>&quot;S&quot;</td></tr><tr><td>863</td><td>1</td><td>1</td><td>&quot;Swift, Mrs. Frederick Joel (Ma…</td><td>&quot;female&quot;</td><td>48.0</td><td>0</td><td>0</td><td>&quot;17466&quot;</td><td>25.9292</td><td>&quot;D17&quot;</td><td>&quot;S&quot;</td></tr><tr><td>872</td><td>1</td><td>1</td><td>&quot;Beckwith, Mrs. Richard Leonard…</td><td>&quot;female&quot;</td><td>47.0</td><td>1</td><td>1</td><td>&quot;11751&quot;</td><td>52.5542</td><td>&quot;D35&quot;</td><td>&quot;S&quot;</td></tr><tr><td>874</td><td>0</td><td>3</td><td>&quot;Vander Cruyssen, Mr. Victor&quot;</td><td>&quot;male&quot;</td><td>47.0</td><td>0</td><td>0</td><td>&quot;345765&quot;</td><td>9.0</td><td>null</td><td>&quot;S&quot;</td></tr><tr><td>880</td><td>1</td><td>1</td><td>&quot;Potter, Mrs. Thomas Jr (Lily A…</td><td>&quot;female&quot;</td><td>56.0</td><td>0</td><td>1</td><td>&quot;11767&quot;</td><td>83.1583</td><td>&quot;C50&quot;</td><td>&quot;C&quot;</td></tr></tbody></table></div>"
            ]
          },
          "metadata": {},
          "execution_count": 15
        }
      ],
      "source": [
        "older_passengers = df.filter(pl.col(\"Age\") > 44)\n",
        "older_passengers"
      ]
    },
    {
      "cell_type": "markdown",
      "source": [
        "# Ускорение работы с pandas"
      ],
      "metadata": {
        "id": "3nYTtU7QK45y"
      }
    },
    {
      "cell_type": "code",
      "source": [
        "%pip install bottleneck"
      ],
      "metadata": {
        "colab": {
          "base_uri": "https://localhost:8080/"
        },
        "id": "1NdfDTs3LEN2",
        "outputId": "73495d22-0e3c-4677-b2ec-78b877006518"
      },
      "execution_count": 16,
      "outputs": [
        {
          "output_type": "stream",
          "name": "stdout",
          "text": [
            "Requirement already satisfied: bottleneck in /usr/local/lib/python3.10/dist-packages (1.4.2)\n",
            "Requirement already satisfied: numpy in /usr/local/lib/python3.10/dist-packages (from bottleneck) (1.26.4)\n"
          ]
        }
      ]
    },
    {
      "cell_type": "code",
      "source": [
        "import pandas as pd\n",
        "import bottleneck as bn"
      ],
      "metadata": {
        "id": "3YRnQu23LPEC"
      },
      "execution_count": 17,
      "outputs": []
    },
    {
      "cell_type": "markdown",
      "source": [
        "Считайте датасет из файла train.csv (это данные о выживаемости на Титанике) с помощью pandas\n"
      ],
      "metadata": {
        "id": "ScY1vyoEK867"
      }
    },
    {
      "cell_type": "code",
      "source": [
        "df = pd.read_csv(\"train.csv\")"
      ],
      "metadata": {
        "id": "eXvQfeNPLDAI"
      },
      "execution_count": 18,
      "outputs": []
    },
    {
      "cell_type": "markdown",
      "source": [
        "\n",
        "Посчитайте средний возраст пассажиров и его стандартное отклонение с помощью bottleneck - 1 бал\n",
        "hint: используйте методы: bn.nanmean(), bn.nanstd()\n"
      ],
      "metadata": {
        "id": "an_HPnnMLBL8"
      }
    },
    {
      "cell_type": "code",
      "source": [
        "mean_age = bn.nanmean(df[\"Age\"])\n",
        "std_age = bn.nanstd(df[\"Age\"])\n",
        "print(\"Средний возраст пассажиров:\", mean_age)\n",
        "print(\"Стандартное отклонение:\", std_age)"
      ],
      "metadata": {
        "colab": {
          "base_uri": "https://localhost:8080/"
        },
        "id": "fXejZTr4LDax",
        "outputId": "0d069296-c212-4641-9ce9-d72b5f5f26ba"
      },
      "execution_count": 20,
      "outputs": [
        {
          "output_type": "stream",
          "name": "stdout",
          "text": [
            "Средний возраст пассажиров: 29.69911764705882\n",
            "Стандартное отклонение: 14.516321150817317\n"
          ]
        }
      ]
    },
    {
      "cell_type": "markdown",
      "source": [
        "\n",
        "Для каждого пассажира умножьте значение столбца Fare на 1.3 и сохраните результаты как новый столбец Fare_new - 1 балл\n",
        "hint: используйте методы: .itertuples() или apply()"
      ],
      "metadata": {
        "id": "sLzxssZ5LCN8"
      }
    },
    {
      "cell_type": "code",
      "source": [
        "df[\"Fare_new\"] = df[\"Fare\"].apply(lambda x: x * 1.3)\n",
        "df[[\"Fare\", \"Fare_new\"]].head()"
      ],
      "metadata": {
        "colab": {
          "base_uri": "https://localhost:8080/",
          "height": 206
        },
        "id": "3jxgp3xfLDzt",
        "outputId": "e54c237e-0b7a-411f-e401-60b506f1a05d"
      },
      "execution_count": 23,
      "outputs": [
        {
          "output_type": "execute_result",
          "data": {
            "text/plain": [
              "      Fare  Fare_new\n",
              "0   7.2500   9.42500\n",
              "1  71.2833  92.66829\n",
              "2   7.9250  10.30250\n",
              "3  53.1000  69.03000\n",
              "4   8.0500  10.46500"
            ],
            "text/html": [
              "\n",
              "  <div id=\"df-ad7337e2-09f1-470c-95b0-6e5a06f62fa4\" class=\"colab-df-container\">\n",
              "    <div>\n",
              "<style scoped>\n",
              "    .dataframe tbody tr th:only-of-type {\n",
              "        vertical-align: middle;\n",
              "    }\n",
              "\n",
              "    .dataframe tbody tr th {\n",
              "        vertical-align: top;\n",
              "    }\n",
              "\n",
              "    .dataframe thead th {\n",
              "        text-align: right;\n",
              "    }\n",
              "</style>\n",
              "<table border=\"1\" class=\"dataframe\">\n",
              "  <thead>\n",
              "    <tr style=\"text-align: right;\">\n",
              "      <th></th>\n",
              "      <th>Fare</th>\n",
              "      <th>Fare_new</th>\n",
              "    </tr>\n",
              "  </thead>\n",
              "  <tbody>\n",
              "    <tr>\n",
              "      <th>0</th>\n",
              "      <td>7.2500</td>\n",
              "      <td>9.42500</td>\n",
              "    </tr>\n",
              "    <tr>\n",
              "      <th>1</th>\n",
              "      <td>71.2833</td>\n",
              "      <td>92.66829</td>\n",
              "    </tr>\n",
              "    <tr>\n",
              "      <th>2</th>\n",
              "      <td>7.9250</td>\n",
              "      <td>10.30250</td>\n",
              "    </tr>\n",
              "    <tr>\n",
              "      <th>3</th>\n",
              "      <td>53.1000</td>\n",
              "      <td>69.03000</td>\n",
              "    </tr>\n",
              "    <tr>\n",
              "      <th>4</th>\n",
              "      <td>8.0500</td>\n",
              "      <td>10.46500</td>\n",
              "    </tr>\n",
              "  </tbody>\n",
              "</table>\n",
              "</div>\n",
              "    <div class=\"colab-df-buttons\">\n",
              "\n",
              "  <div class=\"colab-df-container\">\n",
              "    <button class=\"colab-df-convert\" onclick=\"convertToInteractive('df-ad7337e2-09f1-470c-95b0-6e5a06f62fa4')\"\n",
              "            title=\"Convert this dataframe to an interactive table.\"\n",
              "            style=\"display:none;\">\n",
              "\n",
              "  <svg xmlns=\"http://www.w3.org/2000/svg\" height=\"24px\" viewBox=\"0 -960 960 960\">\n",
              "    <path d=\"M120-120v-720h720v720H120Zm60-500h600v-160H180v160Zm220 220h160v-160H400v160Zm0 220h160v-160H400v160ZM180-400h160v-160H180v160Zm440 0h160v-160H620v160ZM180-180h160v-160H180v160Zm440 0h160v-160H620v160Z\"/>\n",
              "  </svg>\n",
              "    </button>\n",
              "\n",
              "  <style>\n",
              "    .colab-df-container {\n",
              "      display:flex;\n",
              "      gap: 12px;\n",
              "    }\n",
              "\n",
              "    .colab-df-convert {\n",
              "      background-color: #E8F0FE;\n",
              "      border: none;\n",
              "      border-radius: 50%;\n",
              "      cursor: pointer;\n",
              "      display: none;\n",
              "      fill: #1967D2;\n",
              "      height: 32px;\n",
              "      padding: 0 0 0 0;\n",
              "      width: 32px;\n",
              "    }\n",
              "\n",
              "    .colab-df-convert:hover {\n",
              "      background-color: #E2EBFA;\n",
              "      box-shadow: 0px 1px 2px rgba(60, 64, 67, 0.3), 0px 1px 3px 1px rgba(60, 64, 67, 0.15);\n",
              "      fill: #174EA6;\n",
              "    }\n",
              "\n",
              "    .colab-df-buttons div {\n",
              "      margin-bottom: 4px;\n",
              "    }\n",
              "\n",
              "    [theme=dark] .colab-df-convert {\n",
              "      background-color: #3B4455;\n",
              "      fill: #D2E3FC;\n",
              "    }\n",
              "\n",
              "    [theme=dark] .colab-df-convert:hover {\n",
              "      background-color: #434B5C;\n",
              "      box-shadow: 0px 1px 3px 1px rgba(0, 0, 0, 0.15);\n",
              "      filter: drop-shadow(0px 1px 2px rgba(0, 0, 0, 0.3));\n",
              "      fill: #FFFFFF;\n",
              "    }\n",
              "  </style>\n",
              "\n",
              "    <script>\n",
              "      const buttonEl =\n",
              "        document.querySelector('#df-ad7337e2-09f1-470c-95b0-6e5a06f62fa4 button.colab-df-convert');\n",
              "      buttonEl.style.display =\n",
              "        google.colab.kernel.accessAllowed ? 'block' : 'none';\n",
              "\n",
              "      async function convertToInteractive(key) {\n",
              "        const element = document.querySelector('#df-ad7337e2-09f1-470c-95b0-6e5a06f62fa4');\n",
              "        const dataTable =\n",
              "          await google.colab.kernel.invokeFunction('convertToInteractive',\n",
              "                                                    [key], {});\n",
              "        if (!dataTable) return;\n",
              "\n",
              "        const docLinkHtml = 'Like what you see? Visit the ' +\n",
              "          '<a target=\"_blank\" href=https://colab.research.google.com/notebooks/data_table.ipynb>data table notebook</a>'\n",
              "          + ' to learn more about interactive tables.';\n",
              "        element.innerHTML = '';\n",
              "        dataTable['output_type'] = 'display_data';\n",
              "        await google.colab.output.renderOutput(dataTable, element);\n",
              "        const docLink = document.createElement('div');\n",
              "        docLink.innerHTML = docLinkHtml;\n",
              "        element.appendChild(docLink);\n",
              "      }\n",
              "    </script>\n",
              "  </div>\n",
              "\n",
              "\n",
              "<div id=\"df-c1a9dc32-52ae-4289-86c7-16ee8e987bb5\">\n",
              "  <button class=\"colab-df-quickchart\" onclick=\"quickchart('df-c1a9dc32-52ae-4289-86c7-16ee8e987bb5')\"\n",
              "            title=\"Suggest charts\"\n",
              "            style=\"display:none;\">\n",
              "\n",
              "<svg xmlns=\"http://www.w3.org/2000/svg\" height=\"24px\"viewBox=\"0 0 24 24\"\n",
              "     width=\"24px\">\n",
              "    <g>\n",
              "        <path d=\"M19 3H5c-1.1 0-2 .9-2 2v14c0 1.1.9 2 2 2h14c1.1 0 2-.9 2-2V5c0-1.1-.9-2-2-2zM9 17H7v-7h2v7zm4 0h-2V7h2v10zm4 0h-2v-4h2v4z\"/>\n",
              "    </g>\n",
              "</svg>\n",
              "  </button>\n",
              "\n",
              "<style>\n",
              "  .colab-df-quickchart {\n",
              "      --bg-color: #E8F0FE;\n",
              "      --fill-color: #1967D2;\n",
              "      --hover-bg-color: #E2EBFA;\n",
              "      --hover-fill-color: #174EA6;\n",
              "      --disabled-fill-color: #AAA;\n",
              "      --disabled-bg-color: #DDD;\n",
              "  }\n",
              "\n",
              "  [theme=dark] .colab-df-quickchart {\n",
              "      --bg-color: #3B4455;\n",
              "      --fill-color: #D2E3FC;\n",
              "      --hover-bg-color: #434B5C;\n",
              "      --hover-fill-color: #FFFFFF;\n",
              "      --disabled-bg-color: #3B4455;\n",
              "      --disabled-fill-color: #666;\n",
              "  }\n",
              "\n",
              "  .colab-df-quickchart {\n",
              "    background-color: var(--bg-color);\n",
              "    border: none;\n",
              "    border-radius: 50%;\n",
              "    cursor: pointer;\n",
              "    display: none;\n",
              "    fill: var(--fill-color);\n",
              "    height: 32px;\n",
              "    padding: 0;\n",
              "    width: 32px;\n",
              "  }\n",
              "\n",
              "  .colab-df-quickchart:hover {\n",
              "    background-color: var(--hover-bg-color);\n",
              "    box-shadow: 0 1px 2px rgba(60, 64, 67, 0.3), 0 1px 3px 1px rgba(60, 64, 67, 0.15);\n",
              "    fill: var(--button-hover-fill-color);\n",
              "  }\n",
              "\n",
              "  .colab-df-quickchart-complete:disabled,\n",
              "  .colab-df-quickchart-complete:disabled:hover {\n",
              "    background-color: var(--disabled-bg-color);\n",
              "    fill: var(--disabled-fill-color);\n",
              "    box-shadow: none;\n",
              "  }\n",
              "\n",
              "  .colab-df-spinner {\n",
              "    border: 2px solid var(--fill-color);\n",
              "    border-color: transparent;\n",
              "    border-bottom-color: var(--fill-color);\n",
              "    animation:\n",
              "      spin 1s steps(1) infinite;\n",
              "  }\n",
              "\n",
              "  @keyframes spin {\n",
              "    0% {\n",
              "      border-color: transparent;\n",
              "      border-bottom-color: var(--fill-color);\n",
              "      border-left-color: var(--fill-color);\n",
              "    }\n",
              "    20% {\n",
              "      border-color: transparent;\n",
              "      border-left-color: var(--fill-color);\n",
              "      border-top-color: var(--fill-color);\n",
              "    }\n",
              "    30% {\n",
              "      border-color: transparent;\n",
              "      border-left-color: var(--fill-color);\n",
              "      border-top-color: var(--fill-color);\n",
              "      border-right-color: var(--fill-color);\n",
              "    }\n",
              "    40% {\n",
              "      border-color: transparent;\n",
              "      border-right-color: var(--fill-color);\n",
              "      border-top-color: var(--fill-color);\n",
              "    }\n",
              "    60% {\n",
              "      border-color: transparent;\n",
              "      border-right-color: var(--fill-color);\n",
              "    }\n",
              "    80% {\n",
              "      border-color: transparent;\n",
              "      border-right-color: var(--fill-color);\n",
              "      border-bottom-color: var(--fill-color);\n",
              "    }\n",
              "    90% {\n",
              "      border-color: transparent;\n",
              "      border-bottom-color: var(--fill-color);\n",
              "    }\n",
              "  }\n",
              "</style>\n",
              "\n",
              "  <script>\n",
              "    async function quickchart(key) {\n",
              "      const quickchartButtonEl =\n",
              "        document.querySelector('#' + key + ' button');\n",
              "      quickchartButtonEl.disabled = true;  // To prevent multiple clicks.\n",
              "      quickchartButtonEl.classList.add('colab-df-spinner');\n",
              "      try {\n",
              "        const charts = await google.colab.kernel.invokeFunction(\n",
              "            'suggestCharts', [key], {});\n",
              "      } catch (error) {\n",
              "        console.error('Error during call to suggestCharts:', error);\n",
              "      }\n",
              "      quickchartButtonEl.classList.remove('colab-df-spinner');\n",
              "      quickchartButtonEl.classList.add('colab-df-quickchart-complete');\n",
              "    }\n",
              "    (() => {\n",
              "      let quickchartButtonEl =\n",
              "        document.querySelector('#df-c1a9dc32-52ae-4289-86c7-16ee8e987bb5 button');\n",
              "      quickchartButtonEl.style.display =\n",
              "        google.colab.kernel.accessAllowed ? 'block' : 'none';\n",
              "    })();\n",
              "  </script>\n",
              "</div>\n",
              "    </div>\n",
              "  </div>\n"
            ],
            "application/vnd.google.colaboratory.intrinsic+json": {
              "type": "dataframe",
              "summary": "{\n  \"name\": \"df[[\\\"Fare\\\", \\\"Fare_new\\\"]]\",\n  \"rows\": 5,\n  \"fields\": [\n    {\n      \"column\": \"Fare\",\n      \"properties\": {\n        \"dtype\": \"number\",\n        \"std\": 30.5100288352535,\n        \"min\": 7.25,\n        \"max\": 71.2833,\n        \"num_unique_values\": 5,\n        \"samples\": [\n          71.2833,\n          8.05,\n          7.925\n        ],\n        \"semantic_type\": \"\",\n        \"description\": \"\"\n      }\n    },\n    {\n      \"column\": \"Fare_new\",\n      \"properties\": {\n        \"dtype\": \"number\",\n        \"std\": 39.66303748582955,\n        \"min\": 9.425,\n        \"max\": 92.66829,\n        \"num_unique_values\": 5,\n        \"samples\": [\n          92.66829,\n          10.465000000000002,\n          10.3025\n        ],\n        \"semantic_type\": \"\",\n        \"description\": \"\"\n      }\n    }\n  ]\n}"
            }
          },
          "metadata": {},
          "execution_count": 23
        }
      ]
    },
    {
      "cell_type": "code",
      "source": [
        "df.head()"
      ],
      "metadata": {
        "colab": {
          "base_uri": "https://localhost:8080/",
          "height": 206
        },
        "id": "tNQk9lvyLmwa",
        "outputId": "0bc80dd6-b0a8-4697-e94e-fce82c4bd828"
      },
      "execution_count": 24,
      "outputs": [
        {
          "output_type": "execute_result",
          "data": {
            "text/plain": [
              "   PassengerId  Survived  Pclass  \\\n",
              "0            1         0       3   \n",
              "1            2         1       1   \n",
              "2            3         1       3   \n",
              "3            4         1       1   \n",
              "4            5         0       3   \n",
              "\n",
              "                                                Name     Sex   Age  SibSp  \\\n",
              "0                            Braund, Mr. Owen Harris    male  22.0      1   \n",
              "1  Cumings, Mrs. John Bradley (Florence Briggs Th...  female  38.0      1   \n",
              "2                             Heikkinen, Miss. Laina  female  26.0      0   \n",
              "3       Futrelle, Mrs. Jacques Heath (Lily May Peel)  female  35.0      1   \n",
              "4                           Allen, Mr. William Henry    male  35.0      0   \n",
              "\n",
              "   Parch            Ticket     Fare Cabin Embarked  Fare_new  \n",
              "0      0         A/5 21171   7.2500   NaN        S   9.42500  \n",
              "1      0          PC 17599  71.2833   C85        C  92.66829  \n",
              "2      0  STON/O2. 3101282   7.9250   NaN        S  10.30250  \n",
              "3      0            113803  53.1000  C123        S  69.03000  \n",
              "4      0            373450   8.0500   NaN        S  10.46500  "
            ],
            "text/html": [
              "\n",
              "  <div id=\"df-09c64e87-b13d-4d6c-b320-f6b1522fc78a\" class=\"colab-df-container\">\n",
              "    <div>\n",
              "<style scoped>\n",
              "    .dataframe tbody tr th:only-of-type {\n",
              "        vertical-align: middle;\n",
              "    }\n",
              "\n",
              "    .dataframe tbody tr th {\n",
              "        vertical-align: top;\n",
              "    }\n",
              "\n",
              "    .dataframe thead th {\n",
              "        text-align: right;\n",
              "    }\n",
              "</style>\n",
              "<table border=\"1\" class=\"dataframe\">\n",
              "  <thead>\n",
              "    <tr style=\"text-align: right;\">\n",
              "      <th></th>\n",
              "      <th>PassengerId</th>\n",
              "      <th>Survived</th>\n",
              "      <th>Pclass</th>\n",
              "      <th>Name</th>\n",
              "      <th>Sex</th>\n",
              "      <th>Age</th>\n",
              "      <th>SibSp</th>\n",
              "      <th>Parch</th>\n",
              "      <th>Ticket</th>\n",
              "      <th>Fare</th>\n",
              "      <th>Cabin</th>\n",
              "      <th>Embarked</th>\n",
              "      <th>Fare_new</th>\n",
              "    </tr>\n",
              "  </thead>\n",
              "  <tbody>\n",
              "    <tr>\n",
              "      <th>0</th>\n",
              "      <td>1</td>\n",
              "      <td>0</td>\n",
              "      <td>3</td>\n",
              "      <td>Braund, Mr. Owen Harris</td>\n",
              "      <td>male</td>\n",
              "      <td>22.0</td>\n",
              "      <td>1</td>\n",
              "      <td>0</td>\n",
              "      <td>A/5 21171</td>\n",
              "      <td>7.2500</td>\n",
              "      <td>NaN</td>\n",
              "      <td>S</td>\n",
              "      <td>9.42500</td>\n",
              "    </tr>\n",
              "    <tr>\n",
              "      <th>1</th>\n",
              "      <td>2</td>\n",
              "      <td>1</td>\n",
              "      <td>1</td>\n",
              "      <td>Cumings, Mrs. John Bradley (Florence Briggs Th...</td>\n",
              "      <td>female</td>\n",
              "      <td>38.0</td>\n",
              "      <td>1</td>\n",
              "      <td>0</td>\n",
              "      <td>PC 17599</td>\n",
              "      <td>71.2833</td>\n",
              "      <td>C85</td>\n",
              "      <td>C</td>\n",
              "      <td>92.66829</td>\n",
              "    </tr>\n",
              "    <tr>\n",
              "      <th>2</th>\n",
              "      <td>3</td>\n",
              "      <td>1</td>\n",
              "      <td>3</td>\n",
              "      <td>Heikkinen, Miss. Laina</td>\n",
              "      <td>female</td>\n",
              "      <td>26.0</td>\n",
              "      <td>0</td>\n",
              "      <td>0</td>\n",
              "      <td>STON/O2. 3101282</td>\n",
              "      <td>7.9250</td>\n",
              "      <td>NaN</td>\n",
              "      <td>S</td>\n",
              "      <td>10.30250</td>\n",
              "    </tr>\n",
              "    <tr>\n",
              "      <th>3</th>\n",
              "      <td>4</td>\n",
              "      <td>1</td>\n",
              "      <td>1</td>\n",
              "      <td>Futrelle, Mrs. Jacques Heath (Lily May Peel)</td>\n",
              "      <td>female</td>\n",
              "      <td>35.0</td>\n",
              "      <td>1</td>\n",
              "      <td>0</td>\n",
              "      <td>113803</td>\n",
              "      <td>53.1000</td>\n",
              "      <td>C123</td>\n",
              "      <td>S</td>\n",
              "      <td>69.03000</td>\n",
              "    </tr>\n",
              "    <tr>\n",
              "      <th>4</th>\n",
              "      <td>5</td>\n",
              "      <td>0</td>\n",
              "      <td>3</td>\n",
              "      <td>Allen, Mr. William Henry</td>\n",
              "      <td>male</td>\n",
              "      <td>35.0</td>\n",
              "      <td>0</td>\n",
              "      <td>0</td>\n",
              "      <td>373450</td>\n",
              "      <td>8.0500</td>\n",
              "      <td>NaN</td>\n",
              "      <td>S</td>\n",
              "      <td>10.46500</td>\n",
              "    </tr>\n",
              "  </tbody>\n",
              "</table>\n",
              "</div>\n",
              "    <div class=\"colab-df-buttons\">\n",
              "\n",
              "  <div class=\"colab-df-container\">\n",
              "    <button class=\"colab-df-convert\" onclick=\"convertToInteractive('df-09c64e87-b13d-4d6c-b320-f6b1522fc78a')\"\n",
              "            title=\"Convert this dataframe to an interactive table.\"\n",
              "            style=\"display:none;\">\n",
              "\n",
              "  <svg xmlns=\"http://www.w3.org/2000/svg\" height=\"24px\" viewBox=\"0 -960 960 960\">\n",
              "    <path d=\"M120-120v-720h720v720H120Zm60-500h600v-160H180v160Zm220 220h160v-160H400v160Zm0 220h160v-160H400v160ZM180-400h160v-160H180v160Zm440 0h160v-160H620v160ZM180-180h160v-160H180v160Zm440 0h160v-160H620v160Z\"/>\n",
              "  </svg>\n",
              "    </button>\n",
              "\n",
              "  <style>\n",
              "    .colab-df-container {\n",
              "      display:flex;\n",
              "      gap: 12px;\n",
              "    }\n",
              "\n",
              "    .colab-df-convert {\n",
              "      background-color: #E8F0FE;\n",
              "      border: none;\n",
              "      border-radius: 50%;\n",
              "      cursor: pointer;\n",
              "      display: none;\n",
              "      fill: #1967D2;\n",
              "      height: 32px;\n",
              "      padding: 0 0 0 0;\n",
              "      width: 32px;\n",
              "    }\n",
              "\n",
              "    .colab-df-convert:hover {\n",
              "      background-color: #E2EBFA;\n",
              "      box-shadow: 0px 1px 2px rgba(60, 64, 67, 0.3), 0px 1px 3px 1px rgba(60, 64, 67, 0.15);\n",
              "      fill: #174EA6;\n",
              "    }\n",
              "\n",
              "    .colab-df-buttons div {\n",
              "      margin-bottom: 4px;\n",
              "    }\n",
              "\n",
              "    [theme=dark] .colab-df-convert {\n",
              "      background-color: #3B4455;\n",
              "      fill: #D2E3FC;\n",
              "    }\n",
              "\n",
              "    [theme=dark] .colab-df-convert:hover {\n",
              "      background-color: #434B5C;\n",
              "      box-shadow: 0px 1px 3px 1px rgba(0, 0, 0, 0.15);\n",
              "      filter: drop-shadow(0px 1px 2px rgba(0, 0, 0, 0.3));\n",
              "      fill: #FFFFFF;\n",
              "    }\n",
              "  </style>\n",
              "\n",
              "    <script>\n",
              "      const buttonEl =\n",
              "        document.querySelector('#df-09c64e87-b13d-4d6c-b320-f6b1522fc78a button.colab-df-convert');\n",
              "      buttonEl.style.display =\n",
              "        google.colab.kernel.accessAllowed ? 'block' : 'none';\n",
              "\n",
              "      async function convertToInteractive(key) {\n",
              "        const element = document.querySelector('#df-09c64e87-b13d-4d6c-b320-f6b1522fc78a');\n",
              "        const dataTable =\n",
              "          await google.colab.kernel.invokeFunction('convertToInteractive',\n",
              "                                                    [key], {});\n",
              "        if (!dataTable) return;\n",
              "\n",
              "        const docLinkHtml = 'Like what you see? Visit the ' +\n",
              "          '<a target=\"_blank\" href=https://colab.research.google.com/notebooks/data_table.ipynb>data table notebook</a>'\n",
              "          + ' to learn more about interactive tables.';\n",
              "        element.innerHTML = '';\n",
              "        dataTable['output_type'] = 'display_data';\n",
              "        await google.colab.output.renderOutput(dataTable, element);\n",
              "        const docLink = document.createElement('div');\n",
              "        docLink.innerHTML = docLinkHtml;\n",
              "        element.appendChild(docLink);\n",
              "      }\n",
              "    </script>\n",
              "  </div>\n",
              "\n",
              "\n",
              "<div id=\"df-b4a2e664-dc11-4351-9415-837a7dbf93d0\">\n",
              "  <button class=\"colab-df-quickchart\" onclick=\"quickchart('df-b4a2e664-dc11-4351-9415-837a7dbf93d0')\"\n",
              "            title=\"Suggest charts\"\n",
              "            style=\"display:none;\">\n",
              "\n",
              "<svg xmlns=\"http://www.w3.org/2000/svg\" height=\"24px\"viewBox=\"0 0 24 24\"\n",
              "     width=\"24px\">\n",
              "    <g>\n",
              "        <path d=\"M19 3H5c-1.1 0-2 .9-2 2v14c0 1.1.9 2 2 2h14c1.1 0 2-.9 2-2V5c0-1.1-.9-2-2-2zM9 17H7v-7h2v7zm4 0h-2V7h2v10zm4 0h-2v-4h2v4z\"/>\n",
              "    </g>\n",
              "</svg>\n",
              "  </button>\n",
              "\n",
              "<style>\n",
              "  .colab-df-quickchart {\n",
              "      --bg-color: #E8F0FE;\n",
              "      --fill-color: #1967D2;\n",
              "      --hover-bg-color: #E2EBFA;\n",
              "      --hover-fill-color: #174EA6;\n",
              "      --disabled-fill-color: #AAA;\n",
              "      --disabled-bg-color: #DDD;\n",
              "  }\n",
              "\n",
              "  [theme=dark] .colab-df-quickchart {\n",
              "      --bg-color: #3B4455;\n",
              "      --fill-color: #D2E3FC;\n",
              "      --hover-bg-color: #434B5C;\n",
              "      --hover-fill-color: #FFFFFF;\n",
              "      --disabled-bg-color: #3B4455;\n",
              "      --disabled-fill-color: #666;\n",
              "  }\n",
              "\n",
              "  .colab-df-quickchart {\n",
              "    background-color: var(--bg-color);\n",
              "    border: none;\n",
              "    border-radius: 50%;\n",
              "    cursor: pointer;\n",
              "    display: none;\n",
              "    fill: var(--fill-color);\n",
              "    height: 32px;\n",
              "    padding: 0;\n",
              "    width: 32px;\n",
              "  }\n",
              "\n",
              "  .colab-df-quickchart:hover {\n",
              "    background-color: var(--hover-bg-color);\n",
              "    box-shadow: 0 1px 2px rgba(60, 64, 67, 0.3), 0 1px 3px 1px rgba(60, 64, 67, 0.15);\n",
              "    fill: var(--button-hover-fill-color);\n",
              "  }\n",
              "\n",
              "  .colab-df-quickchart-complete:disabled,\n",
              "  .colab-df-quickchart-complete:disabled:hover {\n",
              "    background-color: var(--disabled-bg-color);\n",
              "    fill: var(--disabled-fill-color);\n",
              "    box-shadow: none;\n",
              "  }\n",
              "\n",
              "  .colab-df-spinner {\n",
              "    border: 2px solid var(--fill-color);\n",
              "    border-color: transparent;\n",
              "    border-bottom-color: var(--fill-color);\n",
              "    animation:\n",
              "      spin 1s steps(1) infinite;\n",
              "  }\n",
              "\n",
              "  @keyframes spin {\n",
              "    0% {\n",
              "      border-color: transparent;\n",
              "      border-bottom-color: var(--fill-color);\n",
              "      border-left-color: var(--fill-color);\n",
              "    }\n",
              "    20% {\n",
              "      border-color: transparent;\n",
              "      border-left-color: var(--fill-color);\n",
              "      border-top-color: var(--fill-color);\n",
              "    }\n",
              "    30% {\n",
              "      border-color: transparent;\n",
              "      border-left-color: var(--fill-color);\n",
              "      border-top-color: var(--fill-color);\n",
              "      border-right-color: var(--fill-color);\n",
              "    }\n",
              "    40% {\n",
              "      border-color: transparent;\n",
              "      border-right-color: var(--fill-color);\n",
              "      border-top-color: var(--fill-color);\n",
              "    }\n",
              "    60% {\n",
              "      border-color: transparent;\n",
              "      border-right-color: var(--fill-color);\n",
              "    }\n",
              "    80% {\n",
              "      border-color: transparent;\n",
              "      border-right-color: var(--fill-color);\n",
              "      border-bottom-color: var(--fill-color);\n",
              "    }\n",
              "    90% {\n",
              "      border-color: transparent;\n",
              "      border-bottom-color: var(--fill-color);\n",
              "    }\n",
              "  }\n",
              "</style>\n",
              "\n",
              "  <script>\n",
              "    async function quickchart(key) {\n",
              "      const quickchartButtonEl =\n",
              "        document.querySelector('#' + key + ' button');\n",
              "      quickchartButtonEl.disabled = true;  // To prevent multiple clicks.\n",
              "      quickchartButtonEl.classList.add('colab-df-spinner');\n",
              "      try {\n",
              "        const charts = await google.colab.kernel.invokeFunction(\n",
              "            'suggestCharts', [key], {});\n",
              "      } catch (error) {\n",
              "        console.error('Error during call to suggestCharts:', error);\n",
              "      }\n",
              "      quickchartButtonEl.classList.remove('colab-df-spinner');\n",
              "      quickchartButtonEl.classList.add('colab-df-quickchart-complete');\n",
              "    }\n",
              "    (() => {\n",
              "      let quickchartButtonEl =\n",
              "        document.querySelector('#df-b4a2e664-dc11-4351-9415-837a7dbf93d0 button');\n",
              "      quickchartButtonEl.style.display =\n",
              "        google.colab.kernel.accessAllowed ? 'block' : 'none';\n",
              "    })();\n",
              "  </script>\n",
              "</div>\n",
              "    </div>\n",
              "  </div>\n"
            ],
            "application/vnd.google.colaboratory.intrinsic+json": {
              "type": "dataframe",
              "variable_name": "df",
              "summary": "{\n  \"name\": \"df\",\n  \"rows\": 891,\n  \"fields\": [\n    {\n      \"column\": \"PassengerId\",\n      \"properties\": {\n        \"dtype\": \"number\",\n        \"std\": 257,\n        \"min\": 1,\n        \"max\": 891,\n        \"num_unique_values\": 891,\n        \"samples\": [\n          710,\n          440,\n          841\n        ],\n        \"semantic_type\": \"\",\n        \"description\": \"\"\n      }\n    },\n    {\n      \"column\": \"Survived\",\n      \"properties\": {\n        \"dtype\": \"number\",\n        \"std\": 0,\n        \"min\": 0,\n        \"max\": 1,\n        \"num_unique_values\": 2,\n        \"samples\": [\n          1,\n          0\n        ],\n        \"semantic_type\": \"\",\n        \"description\": \"\"\n      }\n    },\n    {\n      \"column\": \"Pclass\",\n      \"properties\": {\n        \"dtype\": \"number\",\n        \"std\": 0,\n        \"min\": 1,\n        \"max\": 3,\n        \"num_unique_values\": 3,\n        \"samples\": [\n          3,\n          1\n        ],\n        \"semantic_type\": \"\",\n        \"description\": \"\"\n      }\n    },\n    {\n      \"column\": \"Name\",\n      \"properties\": {\n        \"dtype\": \"string\",\n        \"num_unique_values\": 891,\n        \"samples\": [\n          \"Moubarek, Master. Halim Gonios (\\\"William George\\\")\",\n          \"Kvillner, Mr. Johan Henrik Johannesson\"\n        ],\n        \"semantic_type\": \"\",\n        \"description\": \"\"\n      }\n    },\n    {\n      \"column\": \"Sex\",\n      \"properties\": {\n        \"dtype\": \"category\",\n        \"num_unique_values\": 2,\n        \"samples\": [\n          \"female\",\n          \"male\"\n        ],\n        \"semantic_type\": \"\",\n        \"description\": \"\"\n      }\n    },\n    {\n      \"column\": \"Age\",\n      \"properties\": {\n        \"dtype\": \"number\",\n        \"std\": 14.526497332334044,\n        \"min\": 0.42,\n        \"max\": 80.0,\n        \"num_unique_values\": 88,\n        \"samples\": [\n          0.75,\n          22.0\n        ],\n        \"semantic_type\": \"\",\n        \"description\": \"\"\n      }\n    },\n    {\n      \"column\": \"SibSp\",\n      \"properties\": {\n        \"dtype\": \"number\",\n        \"std\": 1,\n        \"min\": 0,\n        \"max\": 8,\n        \"num_unique_values\": 7,\n        \"samples\": [\n          1,\n          0\n        ],\n        \"semantic_type\": \"\",\n        \"description\": \"\"\n      }\n    },\n    {\n      \"column\": \"Parch\",\n      \"properties\": {\n        \"dtype\": \"number\",\n        \"std\": 0,\n        \"min\": 0,\n        \"max\": 6,\n        \"num_unique_values\": 7,\n        \"samples\": [\n          0,\n          1\n        ],\n        \"semantic_type\": \"\",\n        \"description\": \"\"\n      }\n    },\n    {\n      \"column\": \"Ticket\",\n      \"properties\": {\n        \"dtype\": \"string\",\n        \"num_unique_values\": 681,\n        \"samples\": [\n          \"11774\",\n          \"248740\"\n        ],\n        \"semantic_type\": \"\",\n        \"description\": \"\"\n      }\n    },\n    {\n      \"column\": \"Fare\",\n      \"properties\": {\n        \"dtype\": \"number\",\n        \"std\": 49.693428597180905,\n        \"min\": 0.0,\n        \"max\": 512.3292,\n        \"num_unique_values\": 248,\n        \"samples\": [\n          11.2417,\n          51.8625\n        ],\n        \"semantic_type\": \"\",\n        \"description\": \"\"\n      }\n    },\n    {\n      \"column\": \"Cabin\",\n      \"properties\": {\n        \"dtype\": \"category\",\n        \"num_unique_values\": 147,\n        \"samples\": [\n          \"D45\",\n          \"B49\"\n        ],\n        \"semantic_type\": \"\",\n        \"description\": \"\"\n      }\n    },\n    {\n      \"column\": \"Embarked\",\n      \"properties\": {\n        \"dtype\": \"category\",\n        \"num_unique_values\": 3,\n        \"samples\": [\n          \"S\",\n          \"C\"\n        ],\n        \"semantic_type\": \"\",\n        \"description\": \"\"\n      }\n    },\n    {\n      \"column\": \"Fare_new\",\n      \"properties\": {\n        \"dtype\": \"number\",\n        \"std\": 64.60145717633513,\n        \"min\": 0.0,\n        \"max\": 666.02796,\n        \"num_unique_values\": 248,\n        \"samples\": [\n          14.61421,\n          67.42125\n        ],\n        \"semantic_type\": \"\",\n        \"description\": \"\"\n      }\n    }\n  ]\n}"
            }
          },
          "metadata": {},
          "execution_count": 24
        }
      ]
    },
    {
      "cell_type": "markdown",
      "source": [
        "# Оптимизация типов pandas"
      ],
      "metadata": {
        "id": "gg0WRe3gLrz6"
      }
    },
    {
      "cell_type": "markdown",
      "source": [
        "Считайте датасет из файла Housing.csv (это данные о ценах домов) с помощью pandas"
      ],
      "metadata": {
        "id": "Rs21P6IvLuaJ"
      }
    },
    {
      "cell_type": "code",
      "source": [
        "df = pd.read_csv(\"Housing.csv\")"
      ],
      "metadata": {
        "id": "ytlfp47kL4d9"
      },
      "execution_count": 25,
      "outputs": []
    },
    {
      "cell_type": "markdown",
      "source": [
        "\n",
        "Для каждого столбца определите оптимальный с точки зрения потребления памяти тип данных - напишите свои выводы в комментариях - 2 балла\n"
      ],
      "metadata": {
        "id": "m77TOzKlLzoj"
      }
    },
    {
      "cell_type": "markdown",
      "source": [
        "Поменяйте типы данных столбцов датафрейма на выбранные вами в прошлом пункте и сравните потребление памяти до и после оптимизации - 1 балл\n"
      ],
      "metadata": {
        "id": "jHKIhKTNL16x"
      }
    },
    {
      "cell_type": "code",
      "source": [
        "initial_memory_usage = df.memory_usage(deep=True).sum() / 1024 ** 2"
      ],
      "metadata": {
        "id": "E1E1hJp8MpLU"
      },
      "execution_count": 26,
      "outputs": []
    },
    {
      "cell_type": "code",
      "source": [
        "optimized_types = {}\n",
        "for column in df.columns:\n",
        "    col_data = df[column]\n",
        "    if pd.api.types.is_integer_dtype(col_data):\n",
        "        optimized_types[column] = pd.to_numeric(col_data, downcast=\"integer\").dtype\n",
        "    elif pd.api.types.is_float_dtype(col_data):\n",
        "        optimized_types[column] = \"float32\"\n",
        "    elif pd.api.types.is_object_dtype(col_data):\n",
        "        if col_data.nunique() / len(col_data) < 0.5:\n",
        "            optimized_types[column] = \"category\""
      ],
      "metadata": {
        "id": "vchkp5gJMwvr"
      },
      "execution_count": 28,
      "outputs": []
    },
    {
      "cell_type": "code",
      "source": [
        "df_optimized = df.astype(optimized_types)"
      ],
      "metadata": {
        "id": "5aRFazx_M8s9"
      },
      "execution_count": 29,
      "outputs": []
    },
    {
      "cell_type": "code",
      "source": [
        "optimized_memory_usage = df_optimized.memory_usage(deep=True).sum() / 1024 ** 2  # в MB"
      ],
      "metadata": {
        "id": "PgFkX4WGM_1a"
      },
      "execution_count": 30,
      "outputs": []
    },
    {
      "cell_type": "code",
      "source": [
        "print(\"Исходное потребление памяти:\", initial_memory_usage, \"MB\")\n",
        "print(\"Потребление памяти после оптимизации:\", optimized_memory_usage, \"MB\")\n",
        "print(\"Оптимизированные типы данных:\", optimized_types)"
      ],
      "metadata": {
        "colab": {
          "base_uri": "https://localhost:8080/"
        },
        "id": "S-rcAPK3NDZv",
        "outputId": "e7f09744-6ac2-4be7-9ccb-36bc170c0fab"
      },
      "execution_count": 31,
      "outputs": [
        {
          "output_type": "stream",
          "name": "stdout",
          "text": [
            "Исходное потребление памяти: 0.245819091796875 MB\n",
            "Потребление памяти после оптимизации: 0.010555267333984375 MB\n",
            "Оптимизированные типы данных: {'price': dtype('int32'), 'area': dtype('int16'), 'bedrooms': dtype('int8'), 'bathrooms': dtype('int8'), 'stories': dtype('int8'), 'mainroad': 'category', 'guestroom': 'category', 'basement': 'category', 'hotwaterheating': 'category', 'airconditioning': 'category', 'parking': dtype('int8'), 'prefarea': 'category', 'furnishingstatus': 'category'}\n"
          ]
        }
      ]
    },
    {
      "cell_type": "markdown",
      "source": [
        "Вывод: применение оптимизированных типов данных позволило сильно снизить потребление памяти (с 0.246 МБ до 0.011 МБ), благодаря более компактным типам для числовых столбцов и замене текстовых данных на категориальные"
      ],
      "metadata": {
        "id": "Rvjhs9CJNzDh"
      }
    }
  ]
}